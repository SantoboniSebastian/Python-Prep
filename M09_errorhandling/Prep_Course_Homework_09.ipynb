{
 "cells": [
  {
   "attachments": {},
   "cell_type": "markdown",
   "metadata": {},
   "source": [
    "## Manejo de errores"
   ]
  },
  {
   "attachments": {},
   "cell_type": "markdown",
   "metadata": {},
   "source": [
    "1) Con la clase creada en el módulo 7, tener en cuenta diferentes casos en que el código pudiera arrojar error. Por ejemplo, en la creación del objeto recibimos una lista de números enteros pero ¿qué pasa si se envía otro tipo de dato?"
   ]
  },
  {
   "cell_type": "code",
   "execution_count": 2,
   "metadata": {},
   "outputs": [
    {
     "name": "stdout",
     "output_type": "stream",
     "text": [
      "['c:\\\\Users\\\\Merth\\\\Python-Prep\\\\M09_errorhandling', 'c:\\\\Users\\\\Merth\\\\AppData\\\\Local\\\\Programs\\\\Python\\\\Python311\\\\python311.zip', 'c:\\\\Users\\\\Merth\\\\AppData\\\\Local\\\\Programs\\\\Python\\\\Python311\\\\DLLs', 'c:\\\\Users\\\\Merth\\\\AppData\\\\Local\\\\Programs\\\\Python\\\\Python311\\\\Lib', 'c:\\\\Users\\\\Merth\\\\AppData\\\\Local\\\\Programs\\\\Python\\\\Python311', '', 'C:\\\\Users\\\\Merth\\\\AppData\\\\Roaming\\\\Python\\\\Python311\\\\site-packages', 'C:\\\\Users\\\\Merth\\\\AppData\\\\Roaming\\\\Python\\\\Python311\\\\site-packages\\\\win32', 'C:\\\\Users\\\\Merth\\\\AppData\\\\Roaming\\\\Python\\\\Python311\\\\site-packages\\\\win32\\\\lib', 'C:\\\\Users\\\\Merth\\\\AppData\\\\Roaming\\\\Python\\\\Python311\\\\site-packages\\\\Pythonwin', 'c:\\\\Users\\\\Merth\\\\AppData\\\\Local\\\\Programs\\\\Python\\\\Python311\\\\Lib\\\\site-packages']\n",
      "['0', '0']\n"
     ]
    },
    {
     "data": {
      "text/plain": [
       "<funciones.Funciones_Matematicas at 0x222e7daf690>"
      ]
     },
     "execution_count": 2,
     "metadata": {},
     "output_type": "execute_result"
    }
   ],
   "source": [
    "import sys\n",
    "print(sys.path)\n",
    "\n",
    "from funciones import Funciones_Matematicas as F\n",
    "#sys.path.pop(-1)\n",
    "#sys.path.append(r'C:\\Users\\Merth\\Python-Prep\\M08_clasesyOOP')\n",
    "\n",
    "\n",
    "F(\"string\")\n",
    "\n",
    "\n",
    "\n",
    "\n",
    "\n",
    "\n"
   ]
  },
  {
   "attachments": {},
   "cell_type": "markdown",
   "metadata": {},
   "source": [
    "2) En la función que hace la conversión de grados, validar que los parámetros enviados sean los esperados, de no serlo, informar cuáles son los valores esperados."
   ]
  },
  {
   "cell_type": "code",
   "execution_count": 3,
   "metadata": {},
   "outputs": [
    {
     "ename": "AssertionError",
     "evalue": "Se deben ingresar las siglas de temperatura °C, °F o °K",
     "output_type": "error",
     "traceback": [
      "\u001b[1;31m---------------------------------------------------------------------------\u001b[0m",
      "\u001b[1;31mAssertionError\u001b[0m                            Traceback (most recent call last)",
      "Cell \u001b[1;32mIn[3], line 2\u001b[0m\n\u001b[0;32m      1\u001b[0m \u001b[39mfrom\u001b[39;00m \u001b[39mfunciones\u001b[39;00m \u001b[39mimport\u001b[39;00m Funciones_Matematicas \u001b[39mas\u001b[39;00m F\n\u001b[1;32m----> 2\u001b[0m F([\u001b[39m1\u001b[39;49m,\u001b[39m2\u001b[39;49m,\u001b[39m3\u001b[39;49m])\u001b[39m.\u001b[39;49mconversion_grados(\u001b[39m21\u001b[39;49m,\u001b[39m\"\u001b[39;49m\u001b[39mte\u001b[39;49m\u001b[39m\"\u001b[39;49m, \u001b[39m\"\u001b[39;49m\u001b[39mst\u001b[39;49m\u001b[39m\"\u001b[39;49m)\n",
      "File \u001b[1;32m~\\Python-Prep\\M08_clasesyOOP\\funciones.py:64\u001b[0m, in \u001b[0;36mFunciones_Matematicas.conversion_grados\u001b[1;34m(self, temp, origen, cambio)\u001b[0m\n\u001b[0;32m     62\u001b[0m \u001b[39mdef\u001b[39;00m \u001b[39mconversion_grados\u001b[39m(\u001b[39mself\u001b[39m, temp, origen, cambio):\n\u001b[0;32m     63\u001b[0m \u001b[39m    \u001b[39m\u001b[39m\"\"\" strings °C, °F Y °K\"\"\"\u001b[39;00m\n\u001b[1;32m---> 64\u001b[0m     \u001b[39massert\u001b[39;00m origen \u001b[39m==\u001b[39m \u001b[39m\"\u001b[39m\u001b[39m°C\u001b[39m\u001b[39m\"\u001b[39m \u001b[39mor\u001b[39;00m origen \u001b[39m==\u001b[39m \u001b[39m\"\u001b[39m\u001b[39m°F\u001b[39m\u001b[39m\"\u001b[39m \u001b[39mor\u001b[39;00m origen \u001b[39m==\u001b[39m \u001b[39m\"\u001b[39m\u001b[39m°K\u001b[39m\u001b[39m\"\u001b[39m,\u001b[39m\"\u001b[39m\u001b[39mSe deben ingresar las siglas de temperatura °C, °F o °K\u001b[39m\u001b[39m\"\u001b[39m\n\u001b[0;32m     65\u001b[0m     \u001b[39massert\u001b[39;00m cambio \u001b[39m==\u001b[39m \u001b[39m\"\u001b[39m\u001b[39m°C\u001b[39m\u001b[39m\"\u001b[39m \u001b[39mor\u001b[39;00m cambio \u001b[39m==\u001b[39m \u001b[39m\"\u001b[39m\u001b[39m°F\u001b[39m\u001b[39m\"\u001b[39m \u001b[39mor\u001b[39;00m cambio \u001b[39m==\u001b[39m \u001b[39m\"\u001b[39m\u001b[39m°K\u001b[39m\u001b[39m\"\u001b[39m,\u001b[39m\"\u001b[39m\u001b[39mSe deben ingresar las siglas de temperatura °C, °F o °K\u001b[39m\u001b[39m\"\u001b[39m\n\u001b[0;32m     66\u001b[0m     \u001b[39mif\u001b[39;00m origen \u001b[39m==\u001b[39m cambio: \n",
      "\u001b[1;31mAssertionError\u001b[0m: Se deben ingresar las siglas de temperatura °C, °F o °K"
     ]
    }
   ],
   "source": [
    "from funciones import Funciones_Matematicas as F\n",
    "F([1,2,3]).conversion_grados(21,\"te\", \"st\")"
   ]
  },
  {
   "attachments": {},
   "cell_type": "markdown",
   "metadata": {},
   "source": [
    "3) Importar el modulo \"unittest\" y crear los siguientes casos de pruebas sobre la clase utilizada en el punto 2<br>\n",
    "Creacion del objeto incorrecta<br>\n",
    "Creacion correcta del objeto<br>\n",
    "Metodo valor_modal()<br>\n",
    "\n",
    "Se puede usar \"raise ValueError()\" en la creación de la clase para verificar el error. Investigar sobre esta funcionalidad."
   ]
  },
  {
   "cell_type": "code",
   "execution_count": null,
   "metadata": {},
   "outputs": [],
   "source": [
    "from funciones import Funciones_Matematicas as F\n",
    "import unittest\n",
    "\n",
    "\n",
    "class Funciones_Matematicas_test(unittest.TestCase):\n",
    "    def creacion_incorrecta(self):\n",
    "        arg_1 = [10,4]\n",
    "        arg_2 = [2,1]\n",
    "        \n",
    "        with self.assertRaises(ValueError):\n",
    "            F(arg_1, arg_2)\n",
    "\n",
    "\n",
    "    def creacion_correcta(self):\n",
    "        arg_1 = [1,2,3,4]\n",
    "        f1 = F(arg_1)\n",
    "        self.assertEqual(f1.lista, arg_1)\n",
    "        \n",
    "    def valor_modal(self):\n",
    "        arg_1 = [4,2,3,4]\n",
    "        self.assertEqual(F(arg_1).valor_modal(), [4,1])\n",
    "\n",
    "        \n",
    "#if __name__ == '__main__':\n",
    "#    unittest.main()\n",
    "\n",
    "#works\n",
    "\n",
    "\n",
    "    "
   ]
  },
  {
   "attachments": {},
   "cell_type": "markdown",
   "metadata": {},
   "source": [
    "4) Probar una creación incorrecta y visualizar la salida del \"raise\""
   ]
  },
  {
   "cell_type": "code",
   "execution_count": 4,
   "metadata": {},
   "outputs": [],
   "source": []
  },
  {
   "attachments": {},
   "cell_type": "markdown",
   "metadata": {},
   "source": [
    "6) Agregar casos de pruebas para el método verifica_primos() realizando el cambio en la clase, para que devuelva una lista de True o False en función de que el elemento en la posisicón sea o no primo"
   ]
  },
  {
   "cell_type": "code",
   "execution_count": null,
   "metadata": {},
   "outputs": [],
   "source": []
  },
  {
   "attachments": {},
   "cell_type": "markdown",
   "metadata": {},
   "source": [
    "7) Agregar casos de pruebas para el método conversion_grados()"
   ]
  },
  {
   "cell_type": "code",
   "execution_count": null,
   "metadata": {},
   "outputs": [],
   "source": []
  },
  {
   "attachments": {},
   "cell_type": "markdown",
   "metadata": {},
   "source": [
    "8) Agregar casos de pruebas para el método factorial()"
   ]
  },
  {
   "cell_type": "code",
   "execution_count": null,
   "metadata": {},
   "outputs": [],
   "source": []
  }
 ],
 "metadata": {
  "interpreter": {
   "hash": "c85384e4cb51c8b72350f3a8712cc8351fdc3955e32a27f9b60c6242ab125f01"
  },
  "kernelspec": {
   "display_name": "Python 3 (ipykernel)",
   "language": "python",
   "name": "python3"
  },
  "language_info": {
   "codemirror_mode": {
    "name": "ipython",
    "version": 3
   },
   "file_extension": ".py",
   "mimetype": "text/x-python",
   "name": "python",
   "nbconvert_exporter": "python",
   "pygments_lexer": "ipython3",
   "version": "3.11.4"
  }
 },
 "nbformat": 4,
 "nbformat_minor": 4
}

{
 "cells": [
  {
   "attachments": {},
   "cell_type": "markdown",
   "metadata": {},
   "source": [
    "## Funciones"
   ]
  },
  {
   "attachments": {},
   "cell_type": "markdown",
   "metadata": {},
   "source": [
    "1) Crear una función que reciba un número como parámetro y devuelva True si es primo y False si no lo es"
   ]
  },
  {
   "cell_type": "code",
   "execution_count": null,
   "metadata": {},
   "outputs": [],
   "source": [
    "def es_primo(numero):\n",
    "    if numero == 2 or numero == 3:\n",
    "        return True\n",
    "    if numero % 2 == 0:\n",
    "        return False\n",
    "    else:\n",
    "        for i in range(3, int(numero ** 0.5) + 1, 2):\n",
    "            if numero % i == 0:\n",
    "                return False\n",
    "    return True"
   ]
  },
  {
   "attachments": {},
   "cell_type": "markdown",
   "metadata": {},
   "source": [
    "2) Utilizando la función del punto 1, realizar otra función que reciba de parámetro una lista de números y devuelva sólo aquellos que son primos en otra lista"
   ]
  },
  {
   "cell_type": "code",
   "execution_count": null,
   "metadata": {},
   "outputs": [],
   "source": [
    "def enLista_primos(lista):\n",
    "    lista_primos = []\n",
    "    for i in lista:\n",
    "        if i == 2 or i == 3:\n",
    "            lista_primos.append(i)\n",
    "            continue\n",
    "        if i % 2 == 0:\n",
    "            continue\n",
    "        else:\n",
    "            for n in range(3, int(i ** 0.5) + 1, 2):\n",
    "                if i % n == 0:\n",
    "                    continue\n",
    "        lista_primos.append(i)\n",
    "    return lista_primos"
   ]
  },
  {
   "attachments": {},
   "cell_type": "markdown",
   "metadata": {},
   "source": [
    "3) Crear una función que al recibir una lista de números, devuelva el que más se repite y cuántas veces lo hace. Si hay más de un \"más repetido\", que devuelva cualquiera"
   ]
  },
  {
   "cell_type": "code",
   "execution_count": null,
   "metadata": {},
   "outputs": [],
   "source": [
    "def numero_mas_repetido(lista):\n",
    "    reps = 0\n",
    "    max_reps = 0\n",
    "    max_rep_n = 0\n",
    "    start = 1\n",
    "    n = start\n",
    "    for i in lista:\n",
    "        while n < len(lista):\n",
    "            if i == lista[n]:\n",
    "                reps += 1\n",
    "                if reps > max_reps:\n",
    "                    max_reps = reps\n",
    "                    max_rep_n = i\n",
    "            n += 1\n",
    "        reps = 0\n",
    "        start += 1\n",
    "        n = start\n",
    "    return \"El numero \" + str(max_rep_n) + \" se repitio mas veces: \" + str(max_reps)"
   ]
  },
  {
   "attachments": {},
   "cell_type": "markdown",
   "metadata": {},
   "source": [
    "4) Crear una función que convierta entre grados Celsius, Farenheit y Kelvin<br>\n",
    "Fórmula 1\t: (°C × 9/5) + 32 = °F<br>\n",
    "Fórmula 2\t: °C + 273.15 = °K<br>\n",
    "Debe recibir 3 parámetros: el valor, la medida de orígen y la medida de destino\n"
   ]
  },
  {
   "cell_type": "code",
   "execution_count": null,
   "metadata": {},
   "outputs": [],
   "source": [
    "def cambiar_medicion_grados(temp, origen, cambio):\n",
    "    if origen == cambio: \n",
    "        return temp\n",
    "    if origen == \"°C\":\n",
    "        if cambio == \"°F\":\n",
    "            return temp * (9 / 5) + 32\n",
    "        else:\n",
    "            return temp + 273.15\n",
    "\n",
    "    elif origen == \"°F\":\n",
    "        if cambio == \"°C\":\n",
    "            return (temp - 32) / (9 / 5)\n",
    "        else:\n",
    "            return (temp - 32) / (9 / 5) + 273.15\n",
    "\n",
    "    else:\n",
    "        if cambio == \"°C\":\n",
    "            return temp - 273.15\n",
    "        else:\n",
    "            return (temp - 273.15) * (9 / 5) + 32"
   ]
  },
  {
   "attachments": {},
   "cell_type": "markdown",
   "metadata": {},
   "source": [
    "5) Iterando una lista con los tres valores posibles de temperatura que recibe la función del punto 5, hacer un print para cada combinación de los mismos:"
   ]
  },
  {
   "cell_type": "code",
   "execution_count": null,
   "metadata": {},
   "outputs": [],
   "source": [
    "temp_list = [[25, \"°K\", \"°K\"], [11, \"°C\", \"K\"], [43, \"°K\", \"°F\"]]\n",
    "for i in temp_list:\n",
    "    print(cambiar_medicion_grados(i[0], i[1], i[2]))"
   ]
  },
  {
   "attachments": {},
   "cell_type": "markdown",
   "metadata": {},
   "source": [
    "6) Armar una función que devuelva el factorial de un número. Tener en cuenta que el usuario puede equivocarse y enviar de parámetro un número no entero o negativo"
   ]
  },
  {
   "cell_type": "code",
   "execution_count": null,
   "metadata": {},
   "outputs": [],
   "source": [
    "def factorial(n):\n",
    "    if n < 1 or n != int(n):\n",
    "        return \"El numero ingresado no es un numero natural\"\n",
    "    contador = 1\n",
    "    resultado = 1\n",
    "    while contador < n:\n",
    "        resultado = resultado * (contador + 1)\n",
    "        contador+=1\n",
    "    return resultado"
   ]
  }
 ],
 "metadata": {
  "interpreter": {
   "hash": "c85384e4cb51c8b72350f3a8712cc8351fdc3955e32a27f9b60c6242ab125f01"
  },
  "kernelspec": {
   "display_name": "Python 3 (ipykernel)",
   "language": "python",
   "name": "python3"
  },
  "language_info": {
   "codemirror_mode": {
    "name": "ipython",
    "version": 3
   },
   "file_extension": ".py",
   "mimetype": "text/x-python",
   "name": "python",
   "nbconvert_exporter": "python",
   "pygments_lexer": "ipython3",
   "version": "3.9.7"
  }
 },
 "nbformat": 4,
 "nbformat_minor": 4
}

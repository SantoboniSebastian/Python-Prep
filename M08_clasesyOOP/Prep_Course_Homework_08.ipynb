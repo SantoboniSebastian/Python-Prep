{
 "cells": [
  {
   "attachments": {},
   "cell_type": "markdown",
   "metadata": {},
   "source": [
    "## Clases y Programación Orientada a Objetos"
   ]
  },
  {
   "attachments": {},
   "cell_type": "markdown",
   "metadata": {},
   "source": [
    "1) Crear la clase vehículo que contenga los atributos:<br>\n",
    "Color<br>\n",
    "Si es moto, auto, camioneta ó camión<br>\n",
    "Cilindrada del motor"
   ]
  },
  {
   "cell_type": "code",
   "execution_count": 75,
   "metadata": {},
   "outputs": [],
   "source": [
    "class Vehiculo:\n",
    "    def __init__(self, color, tipo, cilindrada):\n",
    "        self.velocidad = 0\n",
    "        self.direccion = \"Derecho\"\n",
    "        self.color = color\n",
    "        self.tipo = tipo\n",
    "        self.cilindrada = cilindrada\n",
    "\n",
    "    def acelerar(self):\n",
    "        self.velocidad = 80\n",
    "        self.direccion = \"Derecho\"\n",
    "        print(\"Velocidad de \",self.tipo,\":\", self.velocidad)\n",
    "        print(self.tipo,\": \",self.direccion)\n",
    "\n",
    "    def frenar(self):\n",
    "        self.velocidad = 0\n",
    "        print(\"Velocidad de \",self.tipo,\":\", self.velocidad)\n",
    "\n",
    "    def doblar(self):\n",
    "        self.direccion = \"Doblando\"\n",
    "        print(self.tipo,\": \",self.direccion)\n",
    "\n",
    "    def estado(self):\n",
    "        print(self.tipo, \":\", self.direccion)\n",
    "        print(\"Velocidad de\", self.tipo, \":\", self.velocidad)\n",
    "\n",
    "    def caracteristicas(self):\n",
    "        print(self.tipo, \":\", self.color + \",\", self.cilindrada)"
   ]
  },
  {
   "attachments": {},
   "cell_type": "markdown",
   "metadata": {},
   "source": [
    "2) A la clase Vehiculo creada en el punto 1, agregar los siguientes métodos:<br>\n",
    "Acelerar<br>\n",
    "Frenar<br>\n",
    "Doblar<br>"
   ]
  },
  {
   "cell_type": "code",
   "execution_count": null,
   "metadata": {},
   "outputs": [],
   "source": []
  },
  {
   "attachments": {},
   "cell_type": "markdown",
   "metadata": {},
   "source": [
    "3) Instanciar 3 objetos de la clase vehículo y ejecutar sus métodos, probar luego el resultado"
   ]
  },
  {
   "cell_type": "code",
   "execution_count": 76,
   "metadata": {},
   "outputs": [
    {
     "name": "stdout",
     "output_type": "stream",
     "text": [
      "Moto :  Doblando\n",
      "Velocidad de  Moto : 80\n",
      "Moto :  Derecho\n",
      "Velocidad de  Moto : 0\n",
      "Velocidad de  Auto : 80\n",
      "Auto :  Derecho\n",
      "Auto :  Doblando\n",
      "Velocidad de  Auto : 0\n",
      "Camión :  Doblando\n",
      "Velocidad de  Camión : 0\n",
      "Velocidad de  Camión : 80\n",
      "Camión :  Derecho\n"
     ]
    }
   ],
   "source": [
    "moto = Vehiculo(\"Negro\", \"Moto\", 750)\n",
    "moto.doblar()\n",
    "moto.acelerar()\n",
    "moto.frenar()\n",
    "auto = Vehiculo(\"Gris\", \"Auto\", 1200)\n",
    "auto.acelerar()\n",
    "auto.doblar()\n",
    "auto.frenar()\n",
    "camion = Vehiculo(\"Rojo\", \"Camión\", 1500)\n",
    "camion.doblar()\n",
    "camion.frenar()\n",
    "camion.acelerar()"
   ]
  },
  {
   "attachments": {},
   "cell_type": "markdown",
   "metadata": {},
   "source": [
    "4) Agregar a la clase Vehiculo, un método que muestre su estado, es decir, a que velocidad se encuentra y su dirección. Y otro método que muestre color, tipo y cilindrada"
   ]
  },
  {
   "cell_type": "code",
   "execution_count": null,
   "metadata": {},
   "outputs": [],
   "source": []
  },
  {
   "attachments": {},
   "cell_type": "markdown",
   "metadata": {},
   "source": [
    "5) Crear una clase que permita utilizar las funciones creadas en la práctica del módulo 7<br>\n",
    "Verificar Primo<br>\n",
    "Valor modal<br>\n",
    "Conversión grados<br>\n",
    "Factorial<br>"
   ]
  },
  {
   "cell_type": "code",
   "execution_count": 111,
   "metadata": {},
   "outputs": [],
   "source": [
    "\n",
    "class Funciones_Matematicas:\n",
    "    def verificar_primo(numero):\n",
    "        \n",
    "        if numero == 2 or numero == 3:\n",
    "            return True\n",
    "        if numero % 2 == 0:\n",
    "            return False\n",
    "        else:\n",
    "            for i in range(3, int(numero ** 0.5) + 1, 2):\n",
    "                if numero % i == 0:\n",
    "                    return False\n",
    "        return True\n",
    "    \n",
    "    def factorial(numero):\n",
    "        if n < 1 or n != int(n):\n",
    "            return \"El numero ingresado no es un numero natural\"\n",
    "        contador = 1\n",
    "        resultado = 1\n",
    "        while contador < n:\n",
    "            resultado = resultado * (contador + 1)\n",
    "            contador+=1\n",
    "        return resultado\n",
    "\n",
    "    def valor_modal(lista):\n",
    "        reps = 0\n",
    "        max_reps = 0\n",
    "        max_rep_n = 0\n",
    "        start = 1\n",
    "        n = start\n",
    "        for i in lista:\n",
    "            while n < len(lista):\n",
    "                if i == lista[n]:\n",
    "                    reps += 1\n",
    "                    if reps > max_reps:\n",
    "                        max_reps = reps\n",
    "                        max_rep_n = i\n",
    "                n += 1\n",
    "            reps = 0\n",
    "            start += 1\n",
    "            n = start\n",
    "        return \"El numero \" + str(max_rep_n) + \" se repitio mas veces: \" + str(max_reps)\n",
    "    \n",
    "    def conversion_grados(temp, origen, cambio):\n",
    "        \"\"\" strings °C, °F Y °K\"\"\"\n",
    "        if origen == cambio: \n",
    "            return temp\n",
    "        if origen == \"°C\":\n",
    "            if cambio == \"°F\":\n",
    "                return temp * (9 / 5) + 32\n",
    "            else:\n",
    "                return temp + 273.15\n",
    "\n",
    "        elif origen == \"°F\":\n",
    "            if cambio == \"°C\":\n",
    "                return (temp - 32) / (9 / 5)\n",
    "            else:\n",
    "                return (temp - 32) / (9 / 5) + 273.15\n",
    "\n",
    "        else:\n",
    "            if cambio == \"°C\":\n",
    "                return temp - 273.15\n",
    "            else:\n",
    "                return (temp - 273.15) * (9 / 5) + 32\n",
    "\n",
    "\n",
    "\n"
   ]
  },
  {
   "attachments": {},
   "cell_type": "markdown",
   "metadata": {},
   "source": [
    "6) Probar las funciones incorporadas en la clase del punto 5"
   ]
  },
  {
   "cell_type": "code",
   "execution_count": 113,
   "metadata": {},
   "outputs": [
    {
     "data": {
      "text/plain": [
       "149.0"
      ]
     },
     "execution_count": 113,
     "metadata": {},
     "output_type": "execute_result"
    }
   ],
   "source": [
    "Funciones_Matematicas.conversion_grados(65,\"°C\",\"°F\")"
   ]
  },
  {
   "attachments": {},
   "cell_type": "markdown",
   "metadata": {},
   "source": [
    "7) Es necesario que la clase creada en el punto 5 contenga una lista, sobre la cual se apliquen las funciones incorporadas"
   ]
  },
  {
   "cell_type": "code",
   "execution_count": 122,
   "metadata": {},
   "outputs": [
    {
     "name": "stdout",
     "output_type": "stream",
     "text": [
      "1 es primo\n",
      "2 es primo\n",
      "3 es primo\n",
      "4 no es primo\n",
      "255.92777777777775 °K\n",
      "256.4833333333333 °K\n",
      "257.0388888888889 °K\n",
      "257.59444444444443 °K\n",
      "1\n",
      "2\n",
      "6\n",
      "24\n"
     ]
    }
   ],
   "source": [
    "class Funciones_Matematicas:\n",
    "    def __init__(self,lista):\n",
    "        self.lista = lista\n",
    "\n",
    "    def verificar_primo_lista(self):\n",
    "        for i in self.lista:\n",
    "            if (self.verificar_primo(i)):\n",
    "                print(i, 'es primo')\n",
    "            else:\n",
    "                print(i, 'no es primo')\n",
    "\n",
    "    def conversion_grados_lista(self, origen, destino):\n",
    "        for i in self.lista:\n",
    "            print(self.conversion_grados(i, origen, destino))\n",
    "\n",
    "    def factorial_lista(self):\n",
    "        for i in self.lista:\n",
    "            print(self.factorial(i))\n",
    "\n",
    "    def verificar_primo(self ,numero):\n",
    "        if numero == 2 or numero == 3:\n",
    "            return True\n",
    "        if numero % 2 == 0:\n",
    "            return False\n",
    "        else:\n",
    "            for i in range(3, int(numero ** 0.5) + 1, 2):\n",
    "                if numero % i == 0:\n",
    "                    return False\n",
    "        return True\n",
    "    \n",
    "    def factorial(self, n):\n",
    "        if n < 1 or n != int(n):\n",
    "            return \"El numero ingresado no es un numero natural\"\n",
    "        contador = 1\n",
    "        resultado = 1\n",
    "        while contador < n:\n",
    "            resultado = resultado * (contador + 1)\n",
    "            contador+=1\n",
    "        return resultado\n",
    "\n",
    "    def valor_modal(self, lista):\n",
    "        reps = 0\n",
    "        max_reps = 0\n",
    "        max_rep_n = 0\n",
    "        start = 1\n",
    "        n = start\n",
    "        for i in lista:\n",
    "            while n < len(lista):\n",
    "                if i == lista[n]:\n",
    "                    reps += 1\n",
    "                    if reps > max_reps:\n",
    "                        max_reps = reps\n",
    "                        max_rep_n = i\n",
    "                n += 1\n",
    "            reps = 0\n",
    "            start += 1\n",
    "            n = start\n",
    "        return \"El numero \" + str(max_rep_n) + \" se repitio mas veces: \" + str(max_reps)\n",
    "    \n",
    "    def conversion_grados(self, temp, origen, cambio):\n",
    "        \"\"\" strings °C, °F Y °K\"\"\"\n",
    "        if origen == cambio: \n",
    "            return temp\n",
    "        if origen == \"°C\":\n",
    "            if cambio == \"°F\":\n",
    "                return temp * (9 / 5) + 32\n",
    "            else:\n",
    "                return temp + 273.15\n",
    "\n",
    "        elif origen == \"°F\":\n",
    "            if cambio == \"°C\":\n",
    "                return (temp - 32) / (9 / 5)\n",
    "            else:\n",
    "                return (temp - 32) / (9 / 5) + 273.15\n",
    "\n",
    "        else:\n",
    "            if cambio == \"°C\":\n",
    "                return temp - 273.15\n",
    "            else:\n",
    "                return (temp - 273.15) * (9 / 5) + 32\n",
    "\n",
    "\n",
    "tool=Funciones_Matematicas([1,2,3,4])\n",
    "\n",
    "tool.verificar_primo_lista()\n",
    "tool.conversion_grados_lista(\"°F\",\"°K\")\n",
    "tool.factorial_lista()\n",
    "\n",
    "\n"
   ]
  },
  {
   "attachments": {},
   "cell_type": "markdown",
   "metadata": {},
   "source": [
    "8) Crear un archivo .py aparte y ubicar allí la clase generada en el punto anterior. Luego realizar la importación del módulo y probar alguna de sus funciones"
   ]
  },
  {
   "cell_type": "code",
   "execution_count": 124,
   "metadata": {},
   "outputs": [
    {
     "name": "stdout",
     "output_type": "stream",
     "text": [
      "1\n",
      "2\n",
      "6\n",
      "24\n"
     ]
    }
   ],
   "source": [
    "from funciones import *\n",
    "\n",
    "funciones1 = Funciones_Matematicas([1,2,3,4])\n",
    "\n",
    "funciones1.factorial_lista()"
   ]
  }
 ],
 "metadata": {
  "interpreter": {
   "hash": "c85384e4cb51c8b72350f3a8712cc8351fdc3955e32a27f9b60c6242ab125f01"
  },
  "kernelspec": {
   "display_name": "Python 3 (ipykernel)",
   "language": "python",
   "name": "python3"
  },
  "language_info": {
   "codemirror_mode": {
    "name": "ipython",
    "version": 3
   },
   "file_extension": ".py",
   "mimetype": "text/x-python",
   "name": "python",
   "nbconvert_exporter": "python",
   "pygments_lexer": "ipython3",
   "version": "3.9.7"
  }
 },
 "nbformat": 4,
 "nbformat_minor": 4
}
